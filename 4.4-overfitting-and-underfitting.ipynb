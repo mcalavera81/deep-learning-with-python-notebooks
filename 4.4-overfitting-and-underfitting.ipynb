{
 "cells": [
  {
   "cell_type": "code",
   "execution_count": 1,
   "metadata": {},
   "outputs": [
    {
     "name": "stderr",
     "output_type": "stream",
     "text": [
      "/home/farid/.local/lib/python3.6/site-packages/h5py/__init__.py:36: FutureWarning: Conversion of the second argument of issubdtype from `float` to `np.floating` is deprecated. In future, it will be treated as `np.float64 == np.dtype(float).type`.\n",
      "  from ._conv import register_converters as _register_converters\n",
      "Using TensorFlow backend.\n"
     ]
    },
    {
     "data": {
      "text/plain": [
       "'2.1.5'"
      ]
     },
     "execution_count": 1,
     "metadata": {},
     "output_type": "execute_result"
    }
   ],
   "source": [
    "import keras\n",
    "keras.__version__"
   ]
  },
  {
   "cell_type": "markdown",
   "metadata": {},
   "source": [
    "# Overfitting and underfitting\n",
    "\n",
    "This notebook contains the code samples found in Chapter 3, Section 6 of [Deep Learning with Python](https://www.manning.com/books/deep-learning-with-python?a_aid=keras&a_bid=76564dff). Note that the original text features far more content, in particular further explanations and figures: in this notebook, you will only find source code and related comments.\n",
    "\n",
    "----\n",
    "\n",
    "\n",
    "In all the examples we saw in the previous chapter -- movie review sentiment prediction, topic classification, and house price regression -- \n",
    "we could notice that the performance of our model on the held-out validation data would always peak after a few epochs and would then start \n",
    "degrading, i.e. our model would quickly start to _overfit_ to the training data. Overfitting happens in every single machine learning \n",
    "problem. Learning how to deal with overfitting is essential to mastering machine learning.\n",
    "\n",
    "The fundamental issue in machine learning is the tension between optimization and generalization. \"Optimization\" refers to the process of \n",
    "adjusting a model to get the best performance possible on the training data (the \"learning\" in \"machine learning\"), while \"generalization\" \n",
    "refers to how well the trained model would perform on data it has never seen before. The goal of the game is to get good generalization, of \n",
    "course, but you do not control generalization; you can only adjust the model based on its training data.\n",
    "\n",
    "At the beginning of training, optimization and generalization are correlated: the lower your loss on training data, the lower your loss on \n",
    "test data. While this is happening, your model is said to be _under-fit_: there is still progress to be made; the network hasn't yet \n",
    "modeled all relevant patterns in the training data. But after a certain number of iterations on the training data, generalization stops \n",
    "improving, validation metrics stall then start degrading: the model is then starting to over-fit, i.e. is it starting to learn patterns \n",
    "that are specific to the training data but that are misleading or irrelevant when it comes to new data.\n",
    "\n",
    "To prevent a model from learning misleading or irrelevant patterns found in the training data, _the best solution is of course to get \n",
    "more training data_. A model trained on more data will naturally generalize better. When that is no longer possible, the next best solution \n",
    "is to modulate the quantity of information that your model is allowed to store, or to add constraints on what information it is allowed to \n",
    "store. If a network can only afford to memorize a small number of patterns, the optimization process will force it to focus on the most \n",
    "prominent patterns, which have a better chance of generalizing well.\n",
    "\n",
    "The processing of fighting overfitting in this way is called _regularization_. Let's review some of the most common regularization \n",
    "techniques, and let's apply them in practice to improve our movie classification model from  the previous chapter."
   ]
  },
  {
   "cell_type": "markdown",
   "metadata": {},
   "source": [
    "Note: in this notebook we will be using the IMDB test set as our validation set. It doesn't matter in this context.\n",
    "\n",
    "Let's prepare the data using the code from Chapter 3, Section 5:"
   ]
  },
  {
   "cell_type": "code",
   "execution_count": 2,
   "metadata": {},
   "outputs": [],
   "source": [
    "from keras.datasets import imdb\n",
    "import numpy as np\n",
    "\n",
    "(train_data, train_labels), (test_data, test_labels) = imdb.load_data(num_words=10000)\n",
    "\n",
    "def vectorize_sequences(sequences, dimension=10000):\n",
    "    # Create an all-zero matrix of shape (len(sequences), dimension)\n",
    "    results = np.zeros((len(sequences), dimension))\n",
    "    for i, sequence in enumerate(sequences):\n",
    "        results[i, sequence] = 1.  # set specific indices of results[i] to 1s\n",
    "    return results\n",
    "\n",
    "# Our vectorized training data\n",
    "x_train = vectorize_sequences(train_data)\n",
    "# Our vectorized test data\n",
    "x_test = vectorize_sequences(test_data)\n",
    "# Our vectorized labels\n",
    "y_train = np.asarray(train_labels).astype('float32')\n",
    "y_test = np.asarray(test_labels).astype('float32')"
   ]
  },
  {
   "cell_type": "code",
   "execution_count": 5,
   "metadata": {},
   "outputs": [
    {
     "data": {
      "text/plain": [
       "array([1., 0., 0., 1., 0., 0., 1., 0., 1., 0.], dtype=float32)"
      ]
     },
     "execution_count": 5,
     "metadata": {},
     "output_type": "execute_result"
    }
   ],
   "source": [
    "y_train[:10]"
   ]
  },
  {
   "cell_type": "markdown",
   "metadata": {},
   "source": [
    "# Fighting overfitting\n",
    "\n",
    "## Reducing the network's size\n",
    "\n",
    "\n",
    "The simplest way to prevent overfitting is to reduce the size of the model, i.e. the number of learnable parameters in the model (which is \n",
    "determined by the number of layers and the number of units per layer). In deep learning, the number of learnable parameters in a model is \n",
    "often referred to as the model's \"capacity\". Intuitively, a model with more parameters will have more \"memorization capacity\" and therefore \n",
    "will be able to easily learn a perfect dictionary-like mapping between training samples and their targets, a mapping without any \n",
    "generalization power. For instance, a model with 500,000 binary parameters could easily be made to learn the class of every digits in the \n",
    "MNIST training set: we would only need 10 binary parameters for each of the 50,000 digits. Such a model would be useless for classifying \n",
    "new digit samples. Always keep this in mind: deep learning models tend to be good at fitting to the training data, but the real challenge \n",
    "is generalization, not fitting.\n",
    "\n",
    "On the other hand, if the network has limited memorization resources, it will not be able to learn this mapping as easily, and thus, in \n",
    "order to minimize its loss, it will have to resort to learning compressed representations that have predictive power regarding the targets \n",
    "-- precisely the type of representations that we are interested in. At the same time, keep in mind that you should be using models that have \n",
    "enough parameters that they won't be underfitting: your model shouldn't be starved for memorization resources. There is a compromise to be \n",
    "found between \"too much capacity\" and \"not enough capacity\".\n",
    "\n",
    "Unfortunately, there is no magical formula to determine what the right number of layers is, or what the right size for each layer is. You \n",
    "will have to evaluate an array of different architectures (on your validation set, not on your test set, of course) in order to find the \n",
    "right model size for your data. The general workflow to find an appropriate model size is to start with relatively few layers and \n",
    "parameters, and start increasing the size of the layers or adding new layers until you see diminishing returns with regard to the \n",
    "validation loss.\n",
    "\n",
    "Let's try this on our movie review classification network. Our original network was as such:"
   ]
  },
  {
   "cell_type": "code",
   "execution_count": 6,
   "metadata": {},
   "outputs": [],
   "source": [
    "from keras import models\n",
    "from keras import layers\n",
    "\n",
    "original_model = models.Sequential()\n",
    "original_model.add(layers.Dense(16, activation='relu', input_shape=(10000,)))\n",
    "original_model.add(layers.Dense(16, activation='relu'))\n",
    "original_model.add(layers.Dense(1, activation='sigmoid'))\n",
    "\n",
    "original_model.compile(optimizer='rmsprop',\n",
    "                       loss='binary_crossentropy',\n",
    "                       metrics=['acc'])"
   ]
  },
  {
   "cell_type": "markdown",
   "metadata": {},
   "source": [
    "Now let's try to replace it with this smaller network:"
   ]
  },
  {
   "cell_type": "code",
   "execution_count": 7,
   "metadata": {},
   "outputs": [],
   "source": [
    "smaller_model = models.Sequential()\n",
    "smaller_model.add(layers.Dense(4, activation='relu', input_shape=(10000,)))\n",
    "smaller_model.add(layers.Dense(4, activation='relu'))\n",
    "smaller_model.add(layers.Dense(1, activation='sigmoid'))\n",
    "\n",
    "smaller_model.compile(optimizer='rmsprop',\n",
    "                      loss='binary_crossentropy',\n",
    "                      metrics=['acc'])"
   ]
  },
  {
   "cell_type": "markdown",
   "metadata": {},
   "source": [
    "\n",
    "Here's a comparison of the validation losses of the original network and the smaller network. The dots are the validation loss values of \n",
    "the smaller network, and the crosses are the initial network (remember: a lower validation loss signals a better model)."
   ]
  },
  {
   "cell_type": "code",
   "execution_count": 8,
   "metadata": {},
   "outputs": [
    {
     "name": "stdout",
     "output_type": "stream",
     "text": [
      "Train on 25000 samples, validate on 25000 samples\n",
      "Epoch 1/20\n",
      "25000/25000 [==============================] - 3s 131us/step - loss: 0.4438 - acc: 0.8253 - val_loss: 0.3284 - val_acc: 0.8837\n",
      "Epoch 2/20\n",
      "25000/25000 [==============================] - 3s 103us/step - loss: 0.2573 - acc: 0.9079 - val_loss: 0.2863 - val_acc: 0.8882\n",
      "Epoch 3/20\n",
      "25000/25000 [==============================] - 3s 110us/step - loss: 0.1994 - acc: 0.9291 - val_loss: 0.2820 - val_acc: 0.8892\n",
      "Epoch 4/20\n",
      "25000/25000 [==============================] - 3s 107us/step - loss: 0.1669 - acc: 0.9411 - val_loss: 0.2939 - val_acc: 0.8850\n",
      "Epoch 5/20\n",
      "25000/25000 [==============================] - 3s 113us/step - loss: 0.1438 - acc: 0.9499 - val_loss: 0.3114 - val_acc: 0.8804\n",
      "Epoch 6/20\n",
      "25000/25000 [==============================] - 3s 118us/step - loss: 0.1262 - acc: 0.9556 - val_loss: 0.3480 - val_acc: 0.8721\n",
      "Epoch 7/20\n",
      "25000/25000 [==============================] - 3s 102us/step - loss: 0.1114 - acc: 0.9615 - val_loss: 0.3583 - val_acc: 0.8730\n",
      "Epoch 8/20\n",
      "25000/25000 [==============================] - 3s 102us/step - loss: 0.0985 - acc: 0.9666 - val_loss: 0.3959 - val_acc: 0.8660\n",
      "Epoch 9/20\n",
      "25000/25000 [==============================] - 2s 99us/step - loss: 0.0854 - acc: 0.9720 - val_loss: 0.4329 - val_acc: 0.8612\n",
      "Epoch 10/20\n",
      "25000/25000 [==============================] - 3s 101us/step - loss: 0.0766 - acc: 0.9758 - val_loss: 0.4917 - val_acc: 0.8543\n",
      "Epoch 11/20\n",
      "25000/25000 [==============================] - 3s 101us/step - loss: 0.0697 - acc: 0.9773 - val_loss: 0.4825 - val_acc: 0.8598\n",
      "Epoch 12/20\n",
      "25000/25000 [==============================] - 3s 101us/step - loss: 0.0589 - acc: 0.9823 - val_loss: 0.5111 - val_acc: 0.8577\n",
      "Epoch 13/20\n",
      "25000/25000 [==============================] - 3s 122us/step - loss: 0.0521 - acc: 0.9838 - val_loss: 0.5360 - val_acc: 0.8581\n",
      "Epoch 14/20\n",
      "25000/25000 [==============================] - 3s 118us/step - loss: 0.0439 - acc: 0.9877 - val_loss: 0.5836 - val_acc: 0.8532\n",
      "Epoch 15/20\n",
      "25000/25000 [==============================] - 3s 101us/step - loss: 0.0381 - acc: 0.9889 - val_loss: 0.6060 - val_acc: 0.8547\n",
      "Epoch 16/20\n",
      "25000/25000 [==============================] - 3s 102us/step - loss: 0.0320 - acc: 0.9909 - val_loss: 0.6397 - val_acc: 0.8534\n",
      "Epoch 17/20\n",
      "25000/25000 [==============================] - 3s 129us/step - loss: 0.0279 - acc: 0.9924 - val_loss: 0.6826 - val_acc: 0.8522\n",
      "Epoch 18/20\n",
      "25000/25000 [==============================] - 3s 126us/step - loss: 0.0219 - acc: 0.9947 - val_loss: 0.7224 - val_acc: 0.8497\n",
      "Epoch 19/20\n",
      "25000/25000 [==============================] - 5s 211us/step - loss: 0.0226 - acc: 0.9941 - val_loss: 0.7518 - val_acc: 0.8497\n",
      "Epoch 20/20\n",
      "25000/25000 [==============================] - 4s 169us/step - loss: 0.0153 - acc: 0.9963 - val_loss: 0.8815 - val_acc: 0.8389\n"
     ]
    }
   ],
   "source": [
    "original_hist = original_model.fit(x_train, y_train,\n",
    "                                   epochs=20,\n",
    "                                   batch_size=512,\n",
    "                                   validation_data=(x_test, y_test))"
   ]
  },
  {
   "cell_type": "code",
   "execution_count": 9,
   "metadata": {},
   "outputs": [
    {
     "name": "stdout",
     "output_type": "stream",
     "text": [
      "Train on 25000 samples, validate on 25000 samples\n",
      "Epoch 1/20\n",
      "25000/25000 [==============================] - 4s 175us/step - loss: 0.5814 - acc: 0.7020 - val_loss: 0.5307 - val_acc: 0.7579\n",
      "Epoch 2/20\n",
      "25000/25000 [==============================] - 4s 175us/step - loss: 0.4845 - acc: 0.8456 - val_loss: 0.4875 - val_acc: 0.8278\n",
      "Epoch 3/20\n",
      "25000/25000 [==============================] - 4s 156us/step - loss: 0.4389 - acc: 0.8928 - val_loss: 0.4667 - val_acc: 0.8484\n",
      "Epoch 4/20\n",
      "25000/25000 [==============================] - 4s 145us/step - loss: 0.4077 - acc: 0.9153 - val_loss: 0.4533 - val_acc: 0.8654\n",
      "Epoch 5/20\n",
      "25000/25000 [==============================] - 3s 116us/step - loss: 0.3830 - acc: 0.9317 - val_loss: 0.4502 - val_acc: 0.8642\n",
      "Epoch 6/20\n",
      "25000/25000 [==============================] - 3s 115us/step - loss: 0.3619 - acc: 0.9416 - val_loss: 0.4424 - val_acc: 0.8716\n",
      "Epoch 7/20\n",
      "25000/25000 [==============================] - 3s 106us/step - loss: 0.3426 - acc: 0.9514 - val_loss: 0.4478 - val_acc: 0.8684\n",
      "Epoch 8/20\n",
      "25000/25000 [==============================] - 3s 112us/step - loss: 0.3262 - acc: 0.9564 - val_loss: 0.4501 - val_acc: 0.8682\n",
      "Epoch 9/20\n",
      "25000/25000 [==============================] - 3s 109us/step - loss: 0.3101 - acc: 0.9618 - val_loss: 0.4754 - val_acc: 0.8610\n",
      "Epoch 10/20\n",
      "25000/25000 [==============================] - 3s 101us/step - loss: 0.2959 - acc: 0.9653 - val_loss: 0.4708 - val_acc: 0.8622\n",
      "Epoch 11/20\n",
      "25000/25000 [==============================] - 3s 129us/step - loss: 0.2815 - acc: 0.9685 - val_loss: 0.4908 - val_acc: 0.8594\n",
      "Epoch 12/20\n",
      "25000/25000 [==============================] - 3s 133us/step - loss: 0.2690 - acc: 0.9716 - val_loss: 0.4965 - val_acc: 0.8588\n",
      "Epoch 13/20\n",
      "25000/25000 [==============================] - 3s 129us/step - loss: 0.2569 - acc: 0.9737 - val_loss: 0.5112 - val_acc: 0.8586\n",
      "Epoch 14/20\n",
      "25000/25000 [==============================] - 3s 125us/step - loss: 0.2455 - acc: 0.9764 - val_loss: 0.5449 - val_acc: 0.8552\n",
      "Epoch 15/20\n",
      "25000/25000 [==============================] - 3s 120us/step - loss: 0.2345 - acc: 0.9778 - val_loss: 0.5026 - val_acc: 0.8602\n",
      "Epoch 16/20\n",
      "25000/25000 [==============================] - 4s 141us/step - loss: 0.2238 - acc: 0.9802 - val_loss: 0.5362 - val_acc: 0.8568\n",
      "Epoch 17/20\n",
      "25000/25000 [==============================] - 3s 136us/step - loss: 0.2148 - acc: 0.9811 - val_loss: 0.5998 - val_acc: 0.8530\n",
      "Epoch 18/20\n",
      "25000/25000 [==============================] - 3s 129us/step - loss: 0.2053 - acc: 0.9826 - val_loss: 0.5684 - val_acc: 0.8562\n",
      "Epoch 19/20\n",
      "25000/25000 [==============================] - 3s 132us/step - loss: 0.1969 - acc: 0.9831 - val_loss: 0.6366 - val_acc: 0.8501\n",
      "Epoch 20/20\n",
      "25000/25000 [==============================] - 3s 129us/step - loss: 0.1889 - acc: 0.9840 - val_loss: 0.6598 - val_acc: 0.8494\n"
     ]
    }
   ],
   "source": [
    "smaller_model_hist = smaller_model.fit(x_train, y_train,\n",
    "                                       epochs=20,\n",
    "                                       batch_size=512,\n",
    "                                       validation_data=(x_test, y_test))"
   ]
  },
  {
   "cell_type": "code",
   "execution_count": 10,
   "metadata": {},
   "outputs": [],
   "source": [
    "epochs = range(1, 21)\n",
    "original_val_loss = original_hist.history['val_loss']\n",
    "smaller_model_val_loss = smaller_model_hist.history['val_loss']"
   ]
  },
  {
   "cell_type": "code",
   "execution_count": 12,
   "metadata": {},
   "outputs": [
    {
     "data": {
      "image/png": "[encoded data removed]",
      "text/plain": [
       "<matplotlib.figure.Figure at 0x7fadaa219710>"
      ]
     },
     "metadata": {},
     "output_type": "display_data"
    }
   ],
   "source": [
    "import matplotlib.pyplot as plt\n",
    "\n",
    "# b+ is for \"blue cross\"\n",
    "plt.plot(epochs, original_val_loss, 'b+', label='Original model')\n",
    "# \"bo\" is for \"blue dot\"\n",
    "plt.plot(epochs, smaller_model_val_loss, 'bo', label='Smaller model')\n",
    "plt.xlabel('Epochs')\n",
    "plt.ylabel('Validation loss')\n",
    "plt.legend()\n",
    "\n",
    "plt.show()"
   ]
  },
  {
   "cell_type": "markdown",
   "metadata": {},
   "source": [
    "\n",
    "As you can see, the smaller network starts overfitting later than the reference one (after 6 epochs rather than 4) and its performance \n",
    "degrades much more slowly once it starts overfitting.\n",
    "\n",
    "Now, for kicks, let's add to this benchmark a network that has much more capacity, far more than the problem would warrant:"
   ]
  },
  {
   "cell_type": "code",
   "execution_count": 13,
   "metadata": {},
   "outputs": [],
   "source": [
    "bigger_model = models.Sequential()\n",
    "bigger_model.add(layers.Dense(512, activation='relu', input_shape=(10000,)))\n",
    "bigger_model.add(layers.Dense(512, activation='relu'))\n",
    "bigger_model.add(layers.Dense(1, activation='sigmoid'))\n",
    "\n",
    "bigger_model.compile(optimizer='rmsprop',\n",
    "                     loss='binary_crossentropy',\n",
    "                     metrics=['acc'])"
   ]
  },
  {
   "cell_type": "code",
   "execution_count": 14,
   "metadata": {},
   "outputs": [
    {
     "name": "stdout",
     "output_type": "stream",
     "text": [
      "Train on 25000 samples, validate on 25000 samples\n",
      "Epoch 1/20\n",
      "25000/25000 [==============================] - 16s 624us/step - loss: 0.4656 - acc: 0.7939 - val_loss: 0.3420 - val_acc: 0.8522\n",
      "Epoch 2/20\n",
      "25000/25000 [==============================] - 19s 748us/step - loss: 0.2275 - acc: 0.9097 - val_loss: 0.2808 - val_acc: 0.8838\n",
      "Epoch 3/20\n",
      "25000/25000 [==============================] - 20s 801us/step - loss: 0.1379 - acc: 0.9498 - val_loss: 0.3087 - val_acc: 0.8817\n",
      "Epoch 4/20\n",
      "25000/25000 [==============================] - 18s 730us/step - loss: 0.0688 - acc: 0.9795 - val_loss: 0.4218 - val_acc: 0.8795\n",
      "Epoch 5/20\n",
      "25000/25000 [==============================] - 15s 609us/step - loss: 0.0714 - acc: 0.9872 - val_loss: 0.4830 - val_acc: 0.8829\n",
      "Epoch 6/20\n",
      "25000/25000 [==============================] - 16s 657us/step - loss: 0.0017 - acc: 0.9998 - val_loss: 0.7633 - val_acc: 0.8631\n",
      "Epoch 7/20\n",
      "25000/25000 [==============================] - 18s 710us/step - loss: 0.0766 - acc: 0.9874 - val_loss: 0.6295 - val_acc: 0.8821\n",
      "Epoch 8/20\n",
      "25000/25000 [==============================] - 18s 702us/step - loss: 1.6194e-04 - acc: 1.0000 - val_loss: 0.7667 - val_acc: 0.8797\n",
      "Epoch 9/20\n",
      "25000/25000 [==============================] - 20s 814us/step - loss: 0.0969 - acc: 0.9879 - val_loss: 0.7390 - val_acc: 0.8774\n",
      "Epoch 10/20\n",
      "25000/25000 [==============================] - 23s 926us/step - loss: 0.0391 - acc: 0.9916 - val_loss: 0.6410 - val_acc: 0.8665\n",
      "Epoch 11/20\n",
      "25000/25000 [==============================] - 26s 1ms/step - loss: 3.7174e-04 - acc: 1.0000 - val_loss: 0.6762 - val_acc: 0.8806\n",
      "Epoch 12/20\n",
      "25000/25000 [==============================] - 27s 1ms/step - loss: 3.7705e-05 - acc: 1.0000 - val_loss: 0.7889 - val_acc: 0.8812\n",
      "Epoch 13/20\n",
      "25000/25000 [==============================] - 25s 981us/step - loss: 5.0784e-06 - acc: 1.0000 - val_loss: 0.8881 - val_acc: 0.8816\n",
      "Epoch 14/20\n",
      "25000/25000 [==============================] - 29s 1ms/step - loss: 7.9320e-07 - acc: 1.0000 - val_loss: 0.9659 - val_acc: 0.8810\n",
      "Epoch 15/20\n",
      "25000/25000 [==============================] - 30s 1ms/step - loss: 2.2342e-07 - acc: 1.0000 - val_loss: 1.0207 - val_acc: 0.8810\n",
      "Epoch 16/20\n",
      "25000/25000 [==============================] - 29s 1ms/step - loss: 1.3522e-07 - acc: 1.0000 - val_loss: 1.0537 - val_acc: 0.8811\n",
      "Epoch 17/20\n",
      "25000/25000 [==============================] - 25s 1ms/step - loss: 1.1934e-07 - acc: 1.0000 - val_loss: 1.0693 - val_acc: 0.8812\n",
      "Epoch 18/20\n",
      "25000/25000 [==============================] - 24s 962us/step - loss: 1.1485e-07 - acc: 1.0000 - val_loss: 1.0784 - val_acc: 0.8812\n",
      "Epoch 19/20\n",
      "25000/25000 [==============================] - 20s 795us/step - loss: 1.1288e-07 - acc: 1.0000 - val_loss: 1.0851 - val_acc: 0.8813\n",
      "Epoch 20/20\n",
      "25000/25000 [==============================] - 24s 952us/step - loss: 1.1190e-07 - acc: 1.0000 - val_loss: 1.0905 - val_acc: 0.8813\n"
     ]
    }
   ],
   "source": [
    "bigger_model_hist = bigger_model.fit(x_train, y_train,\n",
    "                                     epochs=20,\n",
    "                                     batch_size=512,\n",
    "                                     validation_data=(x_test, y_test))"
   ]
  },
  {
   "cell_type": "markdown",
   "metadata": {},
   "source": [
    "Here's how the bigger network fares compared to the reference one. The dots are the validation loss values of the bigger network, and the \n",
    "crosses are the initial network."
   ]
  },
  {
   "cell_type": "code",
   "execution_count": 15,
   "metadata": {},
   "outputs": [
    {
     "data": {
      "image/png": "[encoded data removed]",
      "text/plain": [
       "<matplotlib.figure.Figure at 0x7fada9c04048>"
      ]
     },
     "metadata": {},
     "output_type": "display_data"
    }
   ],
   "source": [
    "bigger_model_val_loss = bigger_model_hist.history['val_loss']\n",
    "\n",
    "plt.plot(epochs, original_val_loss, 'b+', label='Original model')\n",
    "plt.plot(epochs, bigger_model_val_loss, 'bo', label='Bigger model')\n",
    "plt.xlabel('Epochs')\n",
    "plt.ylabel('Validation loss')\n",
    "plt.legend()\n",
    "\n",
    "plt.show()"
   ]
  },
  {
   "cell_type": "markdown",
   "metadata": {},
   "source": [
    "\n",
    "The bigger network starts overfitting almost right away, after just one epoch, and overfits much more severely. Its validation loss is also \n",
    "more noisy.\n",
    "\n",
    "Meanwhile, here are the training losses for our two networks:"
   ]
  },
  {
   "cell_type": "code",
   "execution_count": 16,
   "metadata": {},
   "outputs": [
    {
     "data": {
      "image/png": "[encoded data removed]",
      "text/plain": [
       "<matplotlib.figure.Figure at 0x7fada8bd1a20>"
      ]
     },
     "metadata": {},
     "output_type": "display_data"
    }
   ],
   "source": [
    "original_train_loss = original_hist.history['loss']\n",
    "bigger_model_train_loss = bigger_model_hist.history['loss']\n",
    "\n",
    "plt.plot(epochs, original_train_loss, 'b+', label='Original model')\n",
    "plt.plot(epochs, bigger_model_train_loss, 'bo', label='Bigger model')\n",
    "plt.xlabel('Epochs')\n",
    "plt.ylabel('Training loss')\n",
    "plt.legend()\n",
    "\n",
    "plt.show()"
   ]
  },
  {
   "cell_type": "markdown",
   "metadata": {},
   "source": [
    "As you can see, the bigger network gets its training loss near zero very quickly. The more capacity the network has, the quicker it will be \n",
    "able to model the training data (resulting in a low training loss), but the more susceptible it is to overfitting (resulting in a large \n",
    "difference between the training and validation loss)."
   ]
  },
  {
   "cell_type": "markdown",
   "metadata": {},
   "source": [
    "## Adding weight regularization\n",
    "\n",
    "\n",
    "You may be familiar with _Occam's Razor_ principle: given two explanations for something, the explanation most likely to be correct is the \n",
    "\"simplest\" one, the one that makes the least amount of assumptions. This also applies to the models learned by neural networks: given some \n",
    "training data and a network architecture, there are multiple sets of weights values (multiple _models_) that could explain the data, and \n",
    "simpler models are less likely to overfit than complex ones.\n",
    "\n",
    "A \"simple model\" in this context is a model where the distribution of parameter values has less entropy (or a model with fewer \n",
    "parameters altogether, as we saw in the section above). Thus a common way to mitigate overfitting is to put constraints on the complexity \n",
    "of a network by forcing its weights to only take small values, which makes the distribution of weight values more \"regular\". This is called \n",
    "\"weight regularization\", and it is done by adding to the loss function of the network a _cost_ associated with having large weights. This \n",
    "cost comes in two flavors:\n",
    "\n",
    "* L1 regularization, where the cost added is proportional to the _absolute value of the weights coefficients_ (i.e. to what is called the \n",
    "\"L1 norm\" of the weights).\n",
    "* L2 regularization, where the cost added is proportional to the _square of the value of the weights coefficients_ (i.e. to what is called \n",
    "the \"L2 norm\" of the weights). L2 regularization is also called _weight decay_ in the context of neural networks. Don't let the different \n",
    "name confuse you: weight decay is mathematically the exact same as L2 regularization.\n",
    "\n",
    "In Keras, weight regularization is added by passing _weight regularizer instances_ to layers as keyword arguments. Let's add L2 weight \n",
    "regularization to our movie review classification network:"
   ]
  },
  {
   "cell_type": "code",
   "execution_count": 17,
   "metadata": {},
   "outputs": [],
   "source": [
    "from keras import regularizers\n",
    "\n",
    "l2_model = models.Sequential()\n",
    "l2_model.add(layers.Dense(16, kernel_regularizer=regularizers.l2(0.001),\n",
    "                          activation='relu', input_shape=(10000,)))\n",
    "l2_model.add(layers.Dense(16, kernel_regularizer=regularizers.l2(0.001),\n",
    "                          activation='relu'))\n",
    "l2_model.add(layers.Dense(1, activation='sigmoid'))"
   ]
  },
  {
   "cell_type": "code",
   "execution_count": 18,
   "metadata": {},
   "outputs": [],
   "source": [
    "l2_model.compile(optimizer='rmsprop',\n",
    "                 loss='binary_crossentropy',\n",
    "                 metrics=['acc'])"
   ]
  },
  {
   "cell_type": "markdown",
   "metadata": {},
   "source": [
    "`l2(0.001)` means that every coefficient in the weight matrix of the layer will add `0.001 * weight_coefficient_value` to the total loss of \n",
    "the network. Note that because this penalty is _only added at training time_, the loss for this network will be much higher at training \n",
    "than at test time.\n",
    "\n",
    "Here's the impact of our L2 regularization penalty:"
   ]
  },
  {
   "cell_type": "code",
   "execution_count": 19,
   "metadata": {},
   "outputs": [
    {
     "name": "stdout",
     "output_type": "stream",
     "text": [
      "Train on 25000 samples, validate on 25000 samples\n",
      "Epoch 1/20\n",
      "25000/25000 [==============================] - 11s 432us/step - loss: 0.4876 - acc: 0.8165 - val_loss: 0.3895 - val_acc: 0.8652\n",
      "Epoch 2/20\n",
      "25000/25000 [==============================] - 3s 116us/step - loss: 0.3099 - acc: 0.9058 - val_loss: 0.3303 - val_acc: 0.8890\n",
      "Epoch 3/20\n",
      "25000/25000 [==============================] - 3s 115us/step - loss: 0.2653 - acc: 0.9203 - val_loss: 0.3298 - val_acc: 0.8870\n",
      "Epoch 4/20\n",
      "25000/25000 [==============================] - 3s 132us/step - loss: 0.2457 - acc: 0.9286 - val_loss: 0.3401 - val_acc: 0.8827\n",
      "Epoch 5/20\n",
      "25000/25000 [==============================] - 3s 113us/step - loss: 0.2324 - acc: 0.9348 - val_loss: 0.3804 - val_acc: 0.8687\n",
      "Epoch 6/20\n",
      "25000/25000 [==============================] - 3s 123us/step - loss: 0.2240 - acc: 0.9390 - val_loss: 0.3662 - val_acc: 0.8755\n",
      "Epoch 7/20\n",
      "25000/25000 [==============================] - 3s 138us/step - loss: 0.2176 - acc: 0.9406 - val_loss: 0.3735 - val_acc: 0.8737\n",
      "Epoch 8/20\n",
      "25000/25000 [==============================] - 4s 164us/step - loss: 0.2112 - acc: 0.9441 - val_loss: 0.3733 - val_acc: 0.8752\n",
      "Epoch 9/20\n",
      "25000/25000 [==============================] - 4s 158us/step - loss: 0.2057 - acc: 0.9450 - val_loss: 0.3747 - val_acc: 0.8753\n",
      "Epoch 10/20\n",
      "25000/25000 [==============================] - 4s 179us/step - loss: 0.2025 - acc: 0.9492 - val_loss: 0.3817 - val_acc: 0.8746\n",
      "Epoch 11/20\n",
      "25000/25000 [==============================] - 5s 212us/step - loss: 0.1973 - acc: 0.9479 - val_loss: 0.3829 - val_acc: 0.8752\n",
      "Epoch 12/20\n",
      "25000/25000 [==============================] - 6s 227us/step - loss: 0.1952 - acc: 0.9493 - val_loss: 0.3923 - val_acc: 0.8740\n",
      "Epoch 13/20\n",
      "25000/25000 [==============================] - 5s 192us/step - loss: 0.1913 - acc: 0.9516 - val_loss: 0.3954 - val_acc: 0.8732\n",
      "Epoch 14/20\n",
      "25000/25000 [==============================] - 5s 180us/step - loss: 0.1852 - acc: 0.9554 - val_loss: 0.4021 - val_acc: 0.8732\n",
      "Epoch 15/20\n",
      "25000/25000 [==============================] - 4s 163us/step - loss: 0.1811 - acc: 0.9569 - val_loss: 0.4636 - val_acc: 0.8554\n",
      "Epoch 16/20\n",
      "25000/25000 [==============================] - 4s 167us/step - loss: 0.1832 - acc: 0.9541 - val_loss: 0.4448 - val_acc: 0.8650\n",
      "Epoch 17/20\n",
      "25000/25000 [==============================] - 4s 158us/step - loss: 0.1756 - acc: 0.9589 - val_loss: 0.4199 - val_acc: 0.8707\n",
      "Epoch 18/20\n",
      "25000/25000 [==============================] - 4s 158us/step - loss: 0.1775 - acc: 0.9582 - val_loss: 0.4390 - val_acc: 0.8675\n",
      "Epoch 19/20\n",
      "25000/25000 [==============================] - 4s 151us/step - loss: 0.1688 - acc: 0.9631 - val_loss: 0.4337 - val_acc: 0.8680\n",
      "Epoch 20/20\n",
      "25000/25000 [==============================] - 4s 152us/step - loss: 0.1686 - acc: 0.9604 - val_loss: 0.4577 - val_acc: 0.8616\n"
     ]
    }
   ],
   "source": [
    "l2_model_hist = l2_model.fit(x_train, y_train,\n",
    "                             epochs=20,\n",
    "                             batch_size=512,\n",
    "                             validation_data=(x_test, y_test))"
   ]
  },
  {
   "cell_type": "code",
   "execution_count": 20,
   "metadata": {},
   "outputs": [
    {
     "data": {
      "image/png": "[encoded data removed]",
      "text/plain": [
       "<matplotlib.figure.Figure at 0x7fada830be10>"
      ]
     },
     "metadata": {},
     "output_type": "display_data"
    }
   ],
   "source": [
    "l2_model_val_loss = l2_model_hist.history['val_loss']\n",
    "\n",
    "plt.plot(epochs, original_val_loss, 'b+', label='Original model')\n",
    "plt.plot(epochs, l2_model_val_loss, 'bo', label='L2-regularized model')\n",
    "plt.xlabel('Epochs')\n",
    "plt.ylabel('Validation loss')\n",
    "plt.legend()\n",
    "\n",
    "plt.show()"
   ]
  },
  {
   "cell_type": "markdown",
   "metadata": {},
   "source": [
    "\n",
    "\n",
    "As you can see, the model with L2 regularization (dots) has become much more resistant to overfitting than the reference model (crosses), \n",
    "even though both models have the same number of parameters.\n",
    "\n",
    "As alternatives to L2 regularization, you could use one of the following Keras weight regularizers:"
   ]
  },
  {
   "cell_type": "code",
   "execution_count": null,
   "metadata": {},
   "outputs": [],
   "source": [
    "from keras import regularizers\n",
    "\n",
    "# L1 regularization\n",
    "regularizers.l1(0.001)\n",
    "\n",
    "# L1 and L2 regularization at the same time\n",
    "regularizers.l1_l2(l1=0.001, l2=0.001)"
   ]
  },
  {
   "cell_type": "markdown",
   "metadata": {},
   "source": [
    "## Adding dropout\n",
    "\n",
    "\n",
    "Dropout is one of the most effective and most commonly used regularization techniques for neural networks, developed by Hinton and his \n",
    "students at the University of Toronto. Dropout, applied to a layer, consists of randomly \"dropping out\" (i.e. setting to zero) a number of \n",
    "output features of the layer during training. Let's say a given layer would normally have returned a vector `[0.2, 0.5, 1.3, 0.8, 1.1]` for a \n",
    "given input sample during training; after applying dropout, this vector will have a few zero entries distributed at random, e.g. `[0, 0.5, \n",
    "1.3, 0, 1.1]`. The \"dropout rate\" is the fraction of the features that are being zeroed-out; it is usually set between 0.2 and 0.5. At test \n",
    "time, no units are dropped out, and instead the layer's output values are scaled down by a factor equal to the dropout rate, so as to \n",
    "balance for the fact that more units are active than at training time.\n",
    "\n",
    "Consider a Numpy matrix containing the output of a layer, `layer_output`, of shape `(batch_size, features)`. At training time, we would be \n",
    "zero-ing out at random a fraction of the values in the matrix:"
   ]
  },
  {
   "cell_type": "code",
   "execution_count": 23,
   "metadata": {},
   "outputs": [
    {
     "data": {
      "text/plain": [
       "array([[0, 1, 1],\n",
       "       [0, 1, 0],\n",
       "       [0, 1, 0],\n",
       "       [0, 1, 0],\n",
       "       [0, 0, 0]])"
      ]
     },
     "execution_count": 23,
     "metadata": {},
     "output_type": "execute_result"
    }
   ],
   "source": [
    "import numpy as np\n",
    "np.random.randint(0, high=2, size=(5,3))"
   ]
  },
  {
   "cell_type": "code",
   "execution_count": null,
   "metadata": {},
   "outputs": [],
   "source": [
    "# At training time: we drop out 50% of the units in the output\n",
    "layer_output *= np.randint(0, high=2, size=layer_output.shape)"
   ]
  },
  {
   "cell_type": "markdown",
   "metadata": {},
   "source": [
    "\n",
    "At test time, we would be scaling the output down by the dropout rate. Here we scale by 0.5 (because we were previous dropping half the \n",
    "units):"
   ]
  },
  {
   "cell_type": "code",
   "execution_count": null,
   "metadata": {},
   "outputs": [],
   "source": [
    "# At test time:\n",
    "layer_output *= 0.5"
   ]
  },
  {
   "cell_type": "markdown",
   "metadata": {},
   "source": [
    "\n",
    "Note that this process can be implemented by doing both operations at training time and leaving the output unchanged at test time, which is \n",
    "often the way it is implemented in practice:"
   ]
  },
  {
   "cell_type": "code",
   "execution_count": null,
   "metadata": {},
   "outputs": [],
   "source": [
    "# At training time:\n",
    "layer_output *= np.randint(0, high=2, size=layer_output.shape)\n",
    "# Note that we are scaling *up* rather scaling *down* in this case\n",
    "layer_output /= 0.5"
   ]
  },
  {
   "cell_type": "markdown",
   "metadata": {},
   "source": [
    "\n",
    "This technique may seem strange and arbitrary. Why would this help reduce overfitting? Geoff Hinton has said that he was inspired, among \n",
    "other things, by a fraud prevention mechanism used by banks -- in his own words: _\"I went to my bank. The tellers kept changing and I asked \n",
    "one of them why. He said he didn’t know but they got moved around a lot. I figured it must be because it would require cooperation \n",
    "between employees to successfully defraud the bank. This made me realize that randomly removing a different subset of neurons on each \n",
    "example would prevent conspiracies and thus reduce overfitting\"_.\n",
    "\n",
    "The core idea is that introducing noise in the output values of a layer can break up happenstance patterns that are not significant (what \n",
    "Hinton refers to as \"conspiracies\"), which the network would start memorizing if no noise was present. \n",
    "\n",
    "In Keras you can introduce dropout in a network via the `Dropout` layer, which gets applied to the output of layer right before it, e.g.:"
   ]
  },
  {
   "cell_type": "code",
   "execution_count": null,
   "metadata": {},
   "outputs": [],
   "source": [
    "model.add(layers.Dropout(0.5))"
   ]
  },
  {
   "cell_type": "markdown",
   "metadata": {},
   "source": [
    "Let's add two `Dropout` layers in our IMDB network to see how well they do at reducing overfitting:"
   ]
  },
  {
   "cell_type": "code",
   "execution_count": 24,
   "metadata": {},
   "outputs": [],
   "source": [
    "dpt_model = models.Sequential()\n",
    "dpt_model.add(layers.Dense(16, activation='relu', input_shape=(10000,)))\n",
    "dpt_model.add(layers.Dropout(0.5))\n",
    "dpt_model.add(layers.Dense(16, activation='relu'))\n",
    "dpt_model.add(layers.Dropout(0.5))\n",
    "dpt_model.add(layers.Dense(1, activation='sigmoid'))\n",
    "\n",
    "dpt_model.compile(optimizer='rmsprop',\n",
    "                  loss='binary_crossentropy',\n",
    "                  metrics=['acc'])"
   ]
  },
  {
   "cell_type": "code",
   "execution_count": 25,
   "metadata": {},
   "outputs": [
    {
     "name": "stdout",
     "output_type": "stream",
     "text": [
      "Train on 25000 samples, validate on 25000 samples\n",
      "Epoch 1/20\n",
      "25000/25000 [==============================] - 41s 2ms/step - loss: 0.6221 - acc: 0.6475 - val_loss: 0.5126 - val_acc: 0.8479\n",
      "Epoch 2/20\n",
      "25000/25000 [==============================] - 5s 217us/step - loss: 0.4934 - acc: 0.7748 - val_loss: 0.3798 - val_acc: 0.8775\n",
      "Epoch 3/20\n",
      "25000/25000 [==============================] - 4s 146us/step - loss: 0.4057 - acc: 0.8357 - val_loss: 0.3158 - val_acc: 0.8856\n",
      "Epoch 4/20\n",
      "25000/25000 [==============================] - 4s 153us/step - loss: 0.3487 - acc: 0.8642 - val_loss: 0.2842 - val_acc: 0.8893\n",
      "Epoch 5/20\n",
      "25000/25000 [==============================] - 4s 144us/step - loss: 0.3000 - acc: 0.8863 - val_loss: 0.2766 - val_acc: 0.8895\n",
      "Epoch 6/20\n",
      "25000/25000 [==============================] - 3s 137us/step - loss: 0.2670 - acc: 0.9031 - val_loss: 0.2803 - val_acc: 0.8890\n",
      "Epoch 7/20\n",
      "25000/25000 [==============================] - 3s 127us/step - loss: 0.2390 - acc: 0.9133 - val_loss: 0.2892 - val_acc: 0.8848\n",
      "Epoch 8/20\n",
      "25000/25000 [==============================] - 3s 107us/step - loss: 0.2223 - acc: 0.9234 - val_loss: 0.3061 - val_acc: 0.8848\n",
      "Epoch 9/20\n",
      "25000/25000 [==============================] - 2s 99us/step - loss: 0.2069 - acc: 0.9280 - val_loss: 0.3197 - val_acc: 0.8837\n",
      "Epoch 10/20\n",
      "25000/25000 [==============================] - 2s 100us/step - loss: 0.1847 - acc: 0.9354 - val_loss: 0.3426 - val_acc: 0.8841\n",
      "Epoch 11/20\n",
      "25000/25000 [==============================] - 3s 131us/step - loss: 0.1780 - acc: 0.9398 - val_loss: 0.3650 - val_acc: 0.8844\n",
      "Epoch 12/20\n",
      "25000/25000 [==============================] - 6s 244us/step - loss: 0.1617 - acc: 0.9446 - val_loss: 0.3901 - val_acc: 0.8814\n",
      "Epoch 13/20\n",
      "25000/25000 [==============================] - 5s 199us/step - loss: 0.1537 - acc: 0.9475 - val_loss: 0.4007 - val_acc: 0.8804\n",
      "Epoch 14/20\n",
      "25000/25000 [==============================] - 3s 125us/step - loss: 0.1484 - acc: 0.9490 - val_loss: 0.4143 - val_acc: 0.8785\n",
      "Epoch 15/20\n",
      "25000/25000 [==============================] - 3s 135us/step - loss: 0.1408 - acc: 0.9512 - val_loss: 0.4383 - val_acc: 0.8740\n",
      "Epoch 16/20\n",
      "25000/25000 [==============================] - 4s 144us/step - loss: 0.1345 - acc: 0.9522 - val_loss: 0.4707 - val_acc: 0.8763\n",
      "Epoch 17/20\n",
      "25000/25000 [==============================] - 3s 132us/step - loss: 0.1326 - acc: 0.9545 - val_loss: 0.4831 - val_acc: 0.8742\n",
      "Epoch 18/20\n",
      "25000/25000 [==============================] - 3s 121us/step - loss: 0.1320 - acc: 0.9528 - val_loss: 0.4999 - val_acc: 0.8742\n",
      "Epoch 19/20\n",
      "25000/25000 [==============================] - 3s 116us/step - loss: 0.1242 - acc: 0.9568 - val_loss: 0.5005 - val_acc: 0.8690\n",
      "Epoch 20/20\n",
      "25000/25000 [==============================] - 3s 102us/step - loss: 0.1274 - acc: 0.9556 - val_loss: 0.5310 - val_acc: 0.8734\n"
     ]
    }
   ],
   "source": [
    "dpt_model_hist = dpt_model.fit(x_train, y_train,\n",
    "                               epochs=20,\n",
    "                               batch_size=512,\n",
    "                               validation_data=(x_test, y_test))"
   ]
  },
  {
   "cell_type": "markdown",
   "metadata": {},
   "source": [
    "Let's plot the results:"
   ]
  },
  {
   "cell_type": "code",
   "execution_count": 26,
   "metadata": {},
   "outputs": [
    {
     "data": {
      "image/png": "[encoded data removed]",
      "text/plain": [
       "<matplotlib.figure.Figure at 0x7fac9c4bb278>"
      ]
     },
     "metadata": {},
     "output_type": "display_data"
    }
   ],
   "source": [
    "dpt_model_val_loss = dpt_model_hist.history['val_loss']\n",
    "\n",
    "plt.plot(epochs, original_val_loss, 'b+', label='Original model')\n",
    "plt.plot(epochs, dpt_model_val_loss, 'bo', label='Dropout-regularized model')\n",
    "plt.xlabel('Epochs')\n",
    "plt.ylabel('Validation loss')\n",
    "plt.legend()\n",
    "\n",
    "plt.show()"
   ]
  },
  {
   "cell_type": "markdown",
   "metadata": {},
   "source": [
    "\n",
    "Again, a clear improvement over the reference network.\n",
    "\n",
    "To recap: here the most common ways to prevent overfitting in neural networks:\n",
    "\n",
    "* Getting more training data.\n",
    "* Reducing the capacity of the network.\n",
    "* Adding weight regularization.\n",
    "* Adding dropout."
   ]
  }
 ],
 "metadata": {
  "kernelspec": {
   "display_name": "Python 3",
   "language": "python",
   "name": "python3"
  },
  "language_info": {
   "codemirror_mode": {
    "name": "ipython",
    "version": 3
   },
   "file_extension": ".py",
   "mimetype": "text/x-python",
   "name": "python",
   "nbconvert_exporter": "python",
   "pygments_lexer": "ipython3",
   "version": "3.6.3"
  }
 },
 "nbformat": 4,
 "nbformat_minor": 2
}
